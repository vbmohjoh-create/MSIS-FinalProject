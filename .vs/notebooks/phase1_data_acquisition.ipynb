{
 "cells": [
  {
   "cell_type": "code",
   "execution_count": 12,
   "id": "df2fdc30",
   "metadata": {},
   "outputs": [
    {
     "name": "stdout",
     "output_type": "stream",
     "text": [
      "Original: كثيرا ما ارتبطت المصادر التاريخية في الأندلس خاصة منها كتب التراجم والفهرسات والبرامج وغيرها بدراسة حياة العلماء والرواة والقضاة والساسة ؛ وقد تطورت هذه المادة حتى ترك لنا المؤلفون الأندلسيون سلسلة متواصلة الحلقات من كتب التـراجم كالصلة لابن بشكوال ، وصلة الصلة لابن الزبير، والتكملة لكتاب الصلة لابن الآبار، والذيل والتكملة لكتابي الموصول والصلة لابن عبد الملك المراكشي إضافة إلى الإحاطة في أخبار غرناطة لابن الخطيب ، إلا أنها لم تنس أن تشير في ثنايا أو بالأحرى في خواتم هذه المؤلفات إلى فئة المرأة العالمة التي ساهمت في الإنتاج الفكري والحضاري الأندلسي. ومن خلالها سنسعى إلى الوقوف على حالة التعليم عند المرأة الأندلسية ، وكيف كانت تأخذ فنون العلم. وما مدى إسهامها في الفكر التربوي والإنتاج الفكري الأندلسيين ؟.\n",
      "ALLaM: يتناول هذا البحث موضوع التعليم بين النساء الأندلسيات من خلال دراسة المصادر التاريخية المتعلقة بتراجم العلماء والرواة والقضاة والساسة. يركز البحث على إبراز دور المرأة العالمة ومساهمتها في الإنتاج الفكري والحضاري الأندلسي. من خلال تحليل كتب التراجم مثل الصلة لابن بشكوال وصلة الصلة لابن الزبير والتكملة لكتاب الصلة لابن الآبار وغيرها، يسعى البحث إلى فهم كيفية تلقي المرأة الأندلسية للعلوم ومدى تأثيرها على الفكر التربوي والإنتاج الفكري الأندلسي.\n"
     ]
    }
   ],
   "source": [
    "from datasets import load_dataset\n",
    "\n",
    "# Load the complete dataset\n",
    "dataset = load_dataset(\"KFUPM-JRCAI/arabic-generated-abstracts\")\n",
    "\n",
    "# Access different generation methods\n",
    "by_polishing = dataset[\"by_polishing\"]\n",
    "from_title = dataset[\"from_title\"] \n",
    "from_title_and_content = dataset[\"from_title_and_content\"]\n",
    "\n",
    "# Example: Get a sample\n",
    "sample = dataset[\"by_polishing\"][0]\n",
    "print(\"Original:\", sample[\"original_abstract\"])\n",
    "print(\"ALLaM:\", sample[\"allam_generated_abstract\"])\n"
   ]
  },
  {
   "cell_type": "code",
   "execution_count": 13,
   "id": "f6755d62",
   "metadata": {},
   "outputs": [
    {
     "name": "stdout",
     "output_type": "stream",
     "text": [
      "الأعمدة في by_polishing:\n",
      "{'original_abstract': Value('string'), 'allam_generated_abstract': Value('string'), 'jais_generated_abstract': Value('string'), 'llama_generated_abstract': Value('string'), 'openai_generated_abstract': Value('string')}\n",
      "\n",
      "الأعمدة في from_title:\n",
      "{'original_abstract': Value('string'), 'allam_generated_abstract': Value('string'), 'jais_generated_abstract': Value('string'), 'llama_generated_abstract': Value('string'), 'openai_generated_abstract': Value('string')}\n",
      "\n",
      "الأعمدة في from_title_and_content:\n",
      "{'original_abstract': Value('string'), 'allam_generated_abstract': Value('string'), 'jais_generated_abstract': Value('string'), 'llama_generated_abstract': Value('string'), 'openai_generated_abstract': Value('string')}\n"
     ]
    }
   ],
   "source": [
    "# نعرض الأعمدة الموجودة (features)\n",
    "print(\"الأعمدة في by_polishing:\")\n",
    "print(by_polishing.features)\n",
    "\n",
    "print(\"\\nالأعمدة في from_title:\")\n",
    "print(from_title.features)\n",
    "\n",
    "print(\"\\nالأعمدة في from_title_and_content:\")\n",
    "print(from_title_and_content.features)\n"
   ]
  },
  {
   "cell_type": "code",
   "execution_count": 14,
   "id": "3edfa50d",
   "metadata": {},
   "outputs": [
    {
     "name": "stdout",
     "output_type": "stream",
     "text": [
      "عدد السجلات في by_polishing: 2851\n",
      "عدد السجلات في from_title: 2963\n",
      "عدد السجلات في from_title_and_content: 2574\n"
     ]
    }
   ],
   "source": [
    "# عدد السجلات في كل مجموعة\n",
    "print(\"عدد السجلات في by_polishing:\", len(by_polishing))\n",
    "print(\"عدد السجلات في from_title:\", len(from_title))\n",
    "print(\"عدد السجلات في from_title_and_content:\", len(from_title_and_content))\n"
   ]
  },
  {
   "cell_type": "code",
   "execution_count": 15,
   "id": "0444d0dd",
   "metadata": {},
   "outputs": [
    {
     "name": "stdout",
     "output_type": "stream",
     "text": [
      "🟢 القيم الناقصة في by_polishing:\n",
      "original_abstract            0\n",
      "allam_generated_abstract     0\n",
      "jais_generated_abstract      0\n",
      "llama_generated_abstract     0\n",
      "openai_generated_abstract    0\n",
      "dtype: int64\n",
      "\n",
      "🟢 القيم الناقصة في from_title:\n",
      "original_abstract            0\n",
      "allam_generated_abstract     0\n",
      "jais_generated_abstract      0\n",
      "llama_generated_abstract     0\n",
      "openai_generated_abstract    0\n",
      "dtype: int64\n",
      "\n",
      "🟢 القيم الناقصة في from_title_and_content:\n",
      "original_abstract            0\n",
      "allam_generated_abstract     0\n",
      "jais_generated_abstract      0\n",
      "llama_generated_abstract     0\n",
      "openai_generated_abstract    0\n",
      "dtype: int64\n",
      "\n",
      "🟢 عدد السجلات المكررة في by_polishing: 0\n",
      "🟢 عدد السجلات المكررة في from_title: 0\n",
      "🟢 عدد السجلات المكررة في from_title_and_content: 0\n"
     ]
    }
   ],
   "source": [
    "import pandas as pd\n",
    "\n",
    "# نحول كل مجموعة DataFrame عشان نفحصها بسهولة\n",
    "df_polishing = pd.DataFrame(by_polishing)\n",
    "df_title = pd.DataFrame(from_title)\n",
    "df_title_content = pd.DataFrame(from_title_and_content)\n",
    "\n",
    "# ---- فحص القيم الناقصة ----\n",
    "print(\"🟢 القيم الناقصة في by_polishing:\")\n",
    "print(df_polishing.isnull().sum())\n",
    "\n",
    "print(\"\\n🟢 القيم الناقصة في from_title:\")\n",
    "print(df_title.isnull().sum())\n",
    "\n",
    "print(\"\\n🟢 القيم الناقصة في from_title_and_content:\")\n",
    "print(df_title_content.isnull().sum())\n",
    "\n",
    "# ---- فحص التكرارات ----\n",
    "print(\"\\n🟢 عدد السجلات المكررة في by_polishing:\", df_polishing.duplicated().sum())\n",
    "print(\"🟢 عدد السجلات المكررة في from_title:\", df_title.duplicated().sum())\n",
    "print(\"🟢 عدد السجلات المكررة في from_title_and_content:\", df_title_content.duplicated().sum())\n"
   ]
  },
  {
   "cell_type": "code",
   "execution_count": 17,
   "id": "368944f5",
   "metadata": {},
   "outputs": [
    {
     "name": "stdout",
     "output_type": "stream",
     "text": [
      "Columns:\n",
      "['original_abstract', 'allam_generated_abstract', 'jais_generated_abstract', 'llama_generated_abstract', 'openai_generated_abstract']\n",
      "\n",
      "Data types:\n",
      "original_abstract            object\n",
      "allam_generated_abstract     object\n",
      "jais_generated_abstract      object\n",
      "llama_generated_abstract     object\n",
      "openai_generated_abstract    object\n",
      "dtype: object\n"
     ]
    }
   ],
   "source": [
    "from datasets import load_dataset\n",
    "\n",
    "# تحميل الداتاست\n",
    "ds = load_dataset(\"KFUPM-JRCAI/arabic-generated-abstracts\")\n",
    "\n",
    "# تحويل أحد الـ splits إلى DataFrame\n",
    "df = ds['by_polishing'].to_pandas()\n",
    "\n",
    "# عرض أسماء الأعمدة\n",
    "print(\"Columns:\")\n",
    "print(df.columns.tolist())\n",
    "\n",
    "# عرض أنواع البيانات\n",
    "print(\"\\nData types:\")\n",
    "print(df.dtypes)\n"
   ]
  },
  {
   "cell_type": "code",
   "execution_count": 18,
   "id": "54a5e109",
   "metadata": {},
   "outputs": [
    {
     "name": "stdout",
     "output_type": "stream",
     "text": [
      "Columns and data types for 'by_polishing' data:\n",
      "<class 'pandas.core.frame.DataFrame'>\n",
      "RangeIndex: 2851 entries, 0 to 2850\n",
      "Data columns (total 5 columns):\n",
      " #   Column                     Non-Null Count  Dtype \n",
      "---  ------                     --------------  ----- \n",
      " 0   original_abstract          2851 non-null   object\n",
      " 1   allam_generated_abstract   2851 non-null   object\n",
      " 2   jais_generated_abstract    2851 non-null   object\n",
      " 3   llama_generated_abstract   2851 non-null   object\n",
      " 4   openai_generated_abstract  2851 non-null   object\n",
      "dtypes: object(5)\n",
      "memory usage: 111.5+ KB\n",
      "None\n",
      "\n",
      "First 5 rows of 'by_polishing' data:\n",
      "                                   original_abstract  \\\n",
      "0  كثيرا ما ارتبطت المصادر التاريخية في الأندلس خ...   \n",
      "1  يعد العامل الثقافي احد ابرز الاسباب التي يعزى ...   \n",
      "2  شكلت تلك الجهود والمساعي الرائدة التي قام بها ...   \n",
      "3  يقوم المقال على اشكالية الضرائب الغير شرعية في...   \n",
      "4  تتفق المصادر التاريخية المتوفرة حول موضوع تطور...   \n",
      "\n",
      "                            allam_generated_abstract  \\\n",
      "0  يتناول هذا البحث موضوع التعليم بين النساء الأن...   \n",
      "1  يتناول هذا البحث دراسة انهيار دولة الموحدين من...   \n",
      "2  هدفت هذه الدراسة إلى تسليط الضوء على جهود قادة...   \n",
      "3  يتناول هذا البحث إشكالية الضرائب غير الشرعية ف...   \n",
      "4  تتناول هذه الدراسة حركة الانتصار للحريات الديم...   \n",
      "\n",
      "                             jais_generated_abstract  \\\n",
      "0  تدرس هذه الدراسة دور المرأة في التعليم في الأن...   \n",
      "1  كان العامل الثقافي من بين الأسباب الرئيسية الت...   \n",
      "2  تدرس هذه الدراسة جهود قادة الثورة الجزائرية خل...   \n",
      "3  تدرس المقالة مشكلة الضرائب غير الشرعية في مراح...   \n",
      "4  حركة انتصار الحريات الديمقراطية (MTLD)، وهي حر...   \n",
      "\n",
      "                            llama_generated_abstract  \\\n",
      "0  يُقدم هذا البحث دراسة شاملة حول حالة التعليم ع...   \n",
      "1  يعد العامل الثقافي أحد أبرز الأسباب التي يعزى ...   \n",
      "2  شكلت الجهود التي بذلها قادة الثورة الجزائرية خ...   \n",
      "3  يقوم البحث على دراسة الضرائب غير الشرعية في دو...   \n",
      "4  تُظهر المصادر التاريخية المتاحة حول تطور الحرك...   \n",
      "\n",
      "                           openai_generated_abstract  \n",
      "0  صور نظام التعليم عند المرأة الأندلسية تستند إل...  \n",
      "1  انهيار دولة الموحدين يعود بشكل كبير للعوامل ال...  \n",
      "2  جهود قادة الثورة الجزائرية خلال المرحلة الأولى...  \n",
      "3  المقال يناقش قضية الضرائب غير الشرعية في دولتي...  \n",
      "4  حركة انتصار الحريات الديمقراطية (MTLD) في الجز...  \n"
     ]
    }
   ],
   "source": [
    "import pandas as pd\n",
    "from datasets import load_dataset\n",
    "\n",
    "# 1. Load the dataset\n",
    "dataset = load_dataset(\"KFUPM-JRCAI/arabic-generated-abstracts\")\n",
    "\n",
    "# 2. Convert and inspect the \"by_polishing\" part\n",
    "by_polishing_df = pd.DataFrame(dataset[\"by_polishing\"])\n",
    "\n",
    "# Print the columns and their data types\n",
    "print(\"Columns and data types for 'by_polishing' data:\")\n",
    "print(by_polishing_df.info())\n",
    "\n",
    "# 3. Print the first 5 rows to see the data content\n",
    "print(\"\\nFirst 5 rows of 'by_polishing' data:\")\n",
    "print(by_polishing_df.head())"
   ]
  },
  {
   "cell_type": "code",
   "execution_count": 21,
   "id": "27793076",
   "metadata": {},
   "outputs": [
    {
     "name": "stdout",
     "output_type": "stream",
     "text": [
      "Missing values per column:\n",
      "original_abstract            0\n",
      "allam_generated_abstract     0\n",
      "jais_generated_abstract      0\n",
      "llama_generated_abstract     0\n",
      "openai_generated_abstract    0\n",
      "dtype: int64\n"
     ]
    }
   ],
   "source": [
    "from datasets import load_dataset\n",
    "\n",
    "# حمّل الداتاست\n",
    "ds = load_dataset(\"KFUPM-JRCAI/arabic-generated-abstracts\")\n",
    "\n",
    "# اختر split وحوله DataFrame\n",
    "df = ds['by_polishing'].to_pandas()\n",
    "\n",
    "# عدد القيم الناقصة في كل عمود\n",
    "print(\"Missing values per column:\")\n",
    "print(df.isna().sum())\n"
   ]
  }
 ],
 "metadata": {
  "kernelspec": {
   "display_name": "Python 3",
   "language": "python",
   "name": "python3"
  },
  "language_info": {
   "codemirror_mode": {
    "name": "ipython",
    "version": 3
   },
   "file_extension": ".py",
   "mimetype": "text/x-python",
   "name": "python",
   "nbconvert_exporter": "python",
   "pygments_lexer": "ipython3",
   "version": "3.13.7"
  }
 },
 "nbformat": 4,
 "nbformat_minor": 5
}
